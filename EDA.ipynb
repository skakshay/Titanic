{
 "cells": [
  {
   "cell_type": "markdown",
   "metadata": {},
   "source": [
    "# Titanic: Machine Learning from Disaster\n",
    "\n",
    "Here we explore the famous [Titanic data set from Kaggle](https://www.kaggle.com/c/titanic/data) and predict whether a passenger would survive or not. \n",
    "Let's start by importing some binaries. "
   ]
  },
  {
   "cell_type": "code",
   "execution_count": 1,
   "metadata": {},
   "outputs": [
    {
     "name": "stderr",
     "output_type": "stream",
     "text": [
      "/home/akshay/Data/skl-v/lib/python3.5/site-packages/sklearn/cross_validation.py:41: DeprecationWarning: This module was deprecated in version 0.18 in favor of the model_selection module into which all the refactored classes and functions are moved. Also note that the interface of the new CV iterators are different from that of this module. This module will be removed in 0.20.\n",
      "  \"This module will be removed in 0.20.\", DeprecationWarning)\n"
     ]
    }
   ],
   "source": [
    "import numpy as np\n",
    "import pandas as pd\n",
    "from itertools import groupby\n",
    "import matplotlib as mpl\n",
    "import matplotlib.pyplot as plt\n",
    "%matplotlib inline\n",
    "import seaborn as sns\n",
    "from sklearn.linear_model import LinearRegression, LogisticRegressionCV\n",
    "from sklearn.model_selection import train_test_split\n",
    "from sklearn.metrics import accuracy_score\n",
    "from sklearn.discriminant_analysis import QuadraticDiscriminantAnalysis\n",
    "from sklearn.neighbors import KNeighborsClassifier\n",
    "from sklearn.model_selection import GridSearchCV\n",
    "from sklearn.svm import SVC\n",
    "from sklearn.ensemble import RandomForestClassifier, GradientBoostingClassifier\n",
    "import xgboost as xgb"
   ]
  },
  {
   "cell_type": "code",
   "execution_count": 2,
   "metadata": {},
   "outputs": [
    {
     "name": "stdout",
     "output_type": "stream",
     "text": [
      "<class 'pandas.core.frame.DataFrame'>\n",
      "Int64Index: 891 entries, 1 to 891\n",
      "Data columns (total 11 columns):\n",
      "Survived    891 non-null int64\n",
      "Pclass      891 non-null int64\n",
      "Name        891 non-null object\n",
      "Sex         891 non-null object\n",
      "Age         714 non-null float64\n",
      "SibSp       891 non-null int64\n",
      "Parch       891 non-null int64\n",
      "Ticket      891 non-null object\n",
      "Fare        891 non-null float64\n",
      "Cabin       204 non-null object\n",
      "Embarked    889 non-null object\n",
      "dtypes: float64(2), int64(4), object(5)\n",
      "memory usage: 83.5+ KB\n",
      "<class 'pandas.core.frame.DataFrame'>\n",
      "Int64Index: 418 entries, 892 to 1309\n",
      "Data columns (total 10 columns):\n",
      "Pclass      418 non-null int64\n",
      "Name        418 non-null object\n",
      "Sex         418 non-null object\n",
      "Age         332 non-null float64\n",
      "SibSp       418 non-null int64\n",
      "Parch       418 non-null int64\n",
      "Ticket      418 non-null object\n",
      "Fare        417 non-null float64\n",
      "Cabin       91 non-null object\n",
      "Embarked    418 non-null object\n",
      "dtypes: float64(2), int64(3), object(5)\n",
      "memory usage: 35.9+ KB\n"
     ]
    }
   ],
   "source": [
    "test = pd.read_csv(\"./Data/test.csv\", index_col=0)\n",
    "train = pd.read_csv(\"./Data/train.csv\", index_col=0)\n",
    "train.info()\n",
    "test.info()"
   ]
  },
  {
   "cell_type": "markdown",
   "metadata": {},
   "source": [
    "There are a total of 11 columns with 891 rows. Following observations can be made just by looking the the output above. \n",
    "1. Intuition tell us that the 'Pclass', 'Age', 'Sex', 'Fare' would be few of the factors that decide 'Survived' status.\n",
    "2. 'Age', 'Cabin' and 'Embarked' have null values. \n",
    "\n",
    "Now lets analyse numerical features. "
   ]
  },
  {
   "cell_type": "code",
   "execution_count": 3,
   "metadata": {},
   "outputs": [
    {
     "name": "stdout",
     "output_type": "stream",
     "text": [
      "         Survived      Pclass         Age       SibSp       Parch        Fare\n",
      "count  891.000000  891.000000  714.000000  891.000000  891.000000  891.000000\n",
      "mean     0.383838    2.308642   29.699118    0.523008    0.381594   32.204208\n",
      "std      0.486592    0.836071   14.526497    1.102743    0.806057   49.693429\n",
      "min      0.000000    1.000000    0.420000    0.000000    0.000000    0.000000\n",
      "25%      0.000000    2.000000   20.125000    0.000000    0.000000    7.910400\n",
      "50%      0.000000    3.000000   28.000000    0.000000    0.000000   14.454200\n",
      "75%      1.000000    3.000000   38.000000    1.000000    0.000000   31.000000\n",
      "max      1.000000    3.000000   80.000000    8.000000    6.000000  512.329200\n"
     ]
    }
   ],
   "source": [
    "print (train.describe())"
   ]
  },
  {
   "cell_type": "markdown",
   "metadata": {},
   "source": [
    "Following observations can be made : \n",
    "1. 38% of the passengers in the data survived as compared to actual 32%. That means we have a slightly biased data, so we will ignore that. \n",
    "2. More than 50 % of the passengers were in 'Pclass'=3.\n",
    "3. Average 'Age' of passengers was 29 with max 'Age' being 80. \n",
    "4. Around 70% passengers didn't have any siblings or spuse('SibSp'). \n",
    "5. Less than 25% of passenger were with their parents/children('Parch')\n",
    "6. 'Fare' has a very high standard deviation and the max value of 512 shows presence of outliers. "
   ]
  },
  {
   "cell_type": "markdown",
   "metadata": {},
   "source": [
    "Lets analyse our non-numerical features. "
   ]
  },
  {
   "cell_type": "code",
   "execution_count": 4,
   "metadata": {},
   "outputs": [
    {
     "data": {
      "text/html": [
       "<div>\n",
       "<style>\n",
       "    .dataframe thead tr:only-child th {\n",
       "        text-align: right;\n",
       "    }\n",
       "\n",
       "    .dataframe thead th {\n",
       "        text-align: left;\n",
       "    }\n",
       "\n",
       "    .dataframe tbody tr th {\n",
       "        vertical-align: top;\n",
       "    }\n",
       "</style>\n",
       "<table border=\"1\" class=\"dataframe\">\n",
       "  <thead>\n",
       "    <tr style=\"text-align: right;\">\n",
       "      <th></th>\n",
       "      <th>Name</th>\n",
       "      <th>Sex</th>\n",
       "      <th>Ticket</th>\n",
       "      <th>Cabin</th>\n",
       "      <th>Embarked</th>\n",
       "    </tr>\n",
       "  </thead>\n",
       "  <tbody>\n",
       "    <tr>\n",
       "      <th>count</th>\n",
       "      <td>891</td>\n",
       "      <td>891</td>\n",
       "      <td>891</td>\n",
       "      <td>204</td>\n",
       "      <td>889</td>\n",
       "    </tr>\n",
       "    <tr>\n",
       "      <th>unique</th>\n",
       "      <td>891</td>\n",
       "      <td>2</td>\n",
       "      <td>681</td>\n",
       "      <td>147</td>\n",
       "      <td>3</td>\n",
       "    </tr>\n",
       "    <tr>\n",
       "      <th>top</th>\n",
       "      <td>Vanden Steen, Mr. Leo Peter</td>\n",
       "      <td>male</td>\n",
       "      <td>1601</td>\n",
       "      <td>C23 C25 C27</td>\n",
       "      <td>S</td>\n",
       "    </tr>\n",
       "    <tr>\n",
       "      <th>freq</th>\n",
       "      <td>1</td>\n",
       "      <td>577</td>\n",
       "      <td>7</td>\n",
       "      <td>4</td>\n",
       "      <td>644</td>\n",
       "    </tr>\n",
       "  </tbody>\n",
       "</table>\n",
       "</div>"
      ],
      "text/plain": [
       "                               Name   Sex Ticket        Cabin Embarked\n",
       "count                           891   891    891          204      889\n",
       "unique                          891     2    681          147        3\n",
       "top     Vanden Steen, Mr. Leo Peter  male   1601  C23 C25 C27        S\n",
       "freq                              1   577      7            4      644"
      ]
     },
     "execution_count": 4,
     "metadata": {},
     "output_type": "execute_result"
    }
   ],
   "source": [
    "train.describe(include=['O'])"
   ]
  },
  {
   "cell_type": "markdown",
   "metadata": {},
   "source": [
    "1. Some 'Ticket'number are alloted to multiple passengers, so we need do adjust the 'Fare' of such tickets accoringly. \n",
    "2. 577(64.7%) passengers were male. \n",
    "3. 'Cabin' was also shared. "
   ]
  },
  {
   "cell_type": "markdown",
   "metadata": {},
   "source": [
    "### Correlating features amongst each other\n",
    "\n",
    "#### 'Sex' and 'Survived'"
   ]
  },
  {
   "cell_type": "code",
   "execution_count": 5,
   "metadata": {},
   "outputs": [
    {
     "data": {
      "text/html": [
       "<div>\n",
       "<style>\n",
       "    .dataframe thead tr:only-child th {\n",
       "        text-align: right;\n",
       "    }\n",
       "\n",
       "    .dataframe thead th {\n",
       "        text-align: left;\n",
       "    }\n",
       "\n",
       "    .dataframe tbody tr th {\n",
       "        vertical-align: top;\n",
       "    }\n",
       "</style>\n",
       "<table border=\"1\" class=\"dataframe\">\n",
       "  <thead>\n",
       "    <tr style=\"text-align: right;\">\n",
       "      <th></th>\n",
       "      <th>Sex</th>\n",
       "      <th>Survived</th>\n",
       "    </tr>\n",
       "  </thead>\n",
       "  <tbody>\n",
       "    <tr>\n",
       "      <th>0</th>\n",
       "      <td>female</td>\n",
       "      <td>0.742038</td>\n",
       "    </tr>\n",
       "    <tr>\n",
       "      <th>1</th>\n",
       "      <td>male</td>\n",
       "      <td>0.188908</td>\n",
       "    </tr>\n",
       "  </tbody>\n",
       "</table>\n",
       "</div>"
      ],
      "text/plain": [
       "      Sex  Survived\n",
       "0  female  0.742038\n",
       "1    male  0.188908"
      ]
     },
     "execution_count": 5,
     "metadata": {},
     "output_type": "execute_result"
    }
   ],
   "source": [
    "# Gender and survived. \n",
    "train.loc[:,['Sex','Survived']].groupby(by=['Sex'], as_index=False).mean().sort_values(by='Survived', ascending=False)"
   ]
  },
  {
   "cell_type": "markdown",
   "metadata": {},
   "source": [
    "74% of females survived as compared to 18% of males. So 'Sex' seems to be a deciding feature.\n",
    "\n",
    "#### 'Embarked' and 'Survived' "
   ]
  },
  {
   "cell_type": "code",
   "execution_count": 6,
   "metadata": {},
   "outputs": [
    {
     "data": {
      "text/html": [
       "<div>\n",
       "<style>\n",
       "    .dataframe thead tr:only-child th {\n",
       "        text-align: right;\n",
       "    }\n",
       "\n",
       "    .dataframe thead th {\n",
       "        text-align: left;\n",
       "    }\n",
       "\n",
       "    .dataframe tbody tr th {\n",
       "        vertical-align: top;\n",
       "    }\n",
       "</style>\n",
       "<table border=\"1\" class=\"dataframe\">\n",
       "  <thead>\n",
       "    <tr style=\"text-align: right;\">\n",
       "      <th></th>\n",
       "      <th>Embarked</th>\n",
       "      <th>Survived</th>\n",
       "    </tr>\n",
       "  </thead>\n",
       "  <tbody>\n",
       "    <tr>\n",
       "      <th>0</th>\n",
       "      <td>C</td>\n",
       "      <td>0.553571</td>\n",
       "    </tr>\n",
       "    <tr>\n",
       "      <th>1</th>\n",
       "      <td>Q</td>\n",
       "      <td>0.389610</td>\n",
       "    </tr>\n",
       "    <tr>\n",
       "      <th>2</th>\n",
       "      <td>S</td>\n",
       "      <td>0.336957</td>\n",
       "    </tr>\n",
       "  </tbody>\n",
       "</table>\n",
       "</div>"
      ],
      "text/plain": [
       "  Embarked  Survived\n",
       "0        C  0.553571\n",
       "1        Q  0.389610\n",
       "2        S  0.336957"
      ]
     },
     "execution_count": 6,
     "metadata": {},
     "output_type": "execute_result"
    }
   ],
   "source": [
    "train.loc[:,['Embarked','Survived']].groupby(by=['Embarked'], as_index=False).mean().sort_values(by='Survived', ascending=False)"
   ]
  },
  {
   "cell_type": "markdown",
   "metadata": {},
   "source": [
    "#### 'Pclass' and 'Survived'"
   ]
  },
  {
   "cell_type": "code",
   "execution_count": 7,
   "metadata": {},
   "outputs": [
    {
     "data": {
      "text/html": [
       "<div>\n",
       "<style>\n",
       "    .dataframe thead tr:only-child th {\n",
       "        text-align: right;\n",
       "    }\n",
       "\n",
       "    .dataframe thead th {\n",
       "        text-align: left;\n",
       "    }\n",
       "\n",
       "    .dataframe tbody tr th {\n",
       "        vertical-align: top;\n",
       "    }\n",
       "</style>\n",
       "<table border=\"1\" class=\"dataframe\">\n",
       "  <thead>\n",
       "    <tr style=\"text-align: right;\">\n",
       "      <th></th>\n",
       "      <th>Pclass</th>\n",
       "      <th>Survived</th>\n",
       "    </tr>\n",
       "  </thead>\n",
       "  <tbody>\n",
       "    <tr>\n",
       "      <th>0</th>\n",
       "      <td>1</td>\n",
       "      <td>0.629630</td>\n",
       "    </tr>\n",
       "    <tr>\n",
       "      <th>1</th>\n",
       "      <td>2</td>\n",
       "      <td>0.472826</td>\n",
       "    </tr>\n",
       "    <tr>\n",
       "      <th>2</th>\n",
       "      <td>3</td>\n",
       "      <td>0.242363</td>\n",
       "    </tr>\n",
       "  </tbody>\n",
       "</table>\n",
       "</div>"
      ],
      "text/plain": [
       "   Pclass  Survived\n",
       "0       1  0.629630\n",
       "1       2  0.472826\n",
       "2       3  0.242363"
      ]
     },
     "execution_count": 7,
     "metadata": {},
     "output_type": "execute_result"
    }
   ],
   "source": [
    "train.loc[:,['Pclass','Survived']].groupby(by=['Pclass'], as_index=False).mean().sort_values(by='Survived', ascending=False)"
   ]
  },
  {
   "cell_type": "markdown",
   "metadata": {},
   "source": [
    "62% of Pclass'=1 survived, while only 24% passengers of 'Pclass'=3 survived. Thus 'Pclass' is also an important feature. \n",
    "\n",
    "Now lets plots a correlation matrix to analyse the correlation between different numerical features. "
   ]
  },
  {
   "cell_type": "code",
   "execution_count": 8,
   "metadata": {
    "scrolled": false
   },
   "outputs": [
    {
     "data": {
      "image/png": "[encoded data removed]",
      "text/plain": [
       "<matplotlib.figure.Figure at 0x7faddd1e1a58>"
      ]
     },
     "metadata": {},
     "output_type": "display_data"
    }
   ],
   "source": [
    "f, ax = plt.subplots(figsize=(10,8))\n",
    "corr = train.corr()\n",
    "_= sns.heatmap(corr, mask=np.zeros_like(corr, dtype=np.bool), cmap=sns.diverging_palette(220, 10, as_cmap=True),\n",
    "            square=True, ax=ax, annot=True)"
   ]
  },
  {
   "cell_type": "markdown",
   "metadata": {},
   "source": [
    "    The above heatmap shows that 'Survived' has a high correlation(relative to others) with 'Fare' and 'Pclass'. Also as we can see there is'nt much of correlation between other features ie there isn;t high collinearity. \n",
    "\n",
    "#### 'Survived' and 'Fare'"
   ]
  },
  {
   "cell_type": "code",
   "execution_count": 9,
   "metadata": {
    "scrolled": false
   },
   "outputs": [
    {
     "data": {
      "text/plain": [
       "<seaborn.axisgrid.FacetGrid at 0x7faddb095668>"
      ]
     },
     "execution_count": 9,
     "metadata": {},
     "output_type": "execute_result"
    },
    {
     "data": {
      "image/png": "[encoded data removed]",
      "text/plain": [
       "<matplotlib.figure.Figure at 0x7faddb16f4e0>"
      ]
     },
     "metadata": {},
     "output_type": "display_data"
    },
    {
     "data": {
      "image/png": "[encoded data removed]",
      "text/plain": [
       "<matplotlib.figure.Figure at 0x7faddb0900b8>"
      ]
     },
     "metadata": {},
     "output_type": "display_data"
    }
   ],
   "source": [
    "sns.set(style='darkgrid')\n",
    "_,ax = plt.subplots(figsize=(6,6))\n",
    "_= sns.violinplot(x='Survived', y='Fare', data=train, ax=ax, scale='count') \n",
    "grid = sns.FacetGrid(train, col='Survived', size=5, xlim=(0,500))\n",
    "grid.map(plt.hist, 'Fare', alpha=0.5, bins=20)\n"
   ]
  },
  {
   "cell_type": "markdown",
   "metadata": {},
   "source": [
    "The violinplot has more width for 'Survived'=0 at lower fare region as compared to 'Survived'=1. This implies that that passenger who paid higher fares had high chance of suvival. This is also asserted by the histogram which shows that people paying higher fares had a better percentage of survival. \n",
    "\n",
    "### 'Survived' and 'Age'"
   ]
  },
  {
   "cell_type": "code",
   "execution_count": 10,
   "metadata": {},
   "outputs": [
    {
     "data": {
      "text/plain": [
       "<seaborn.axisgrid.FacetGrid at 0x7faddd23b860>"
      ]
     },
     "execution_count": 10,
     "metadata": {},
     "output_type": "execute_result"
    },
    {
     "data": {
      "image/png": "[encoded data removed]",
      "text/plain": [
       "<matplotlib.figure.Figure at 0x7faddd23b978>"
      ]
     },
     "metadata": {},
     "output_type": "display_data"
    }
   ],
   "source": [
    "# sns.violinplot(x='Survived', y='Age', data=train)\n",
    "grid = sns.FacetGrid(train, col='Survived', size=5)\n",
    "grid.map(plt.hist, 'Age', bins=20, alpha=0.7)"
   ]
  },
  {
   "cell_type": "markdown",
   "metadata": {},
   "source": [
    "1. Infants(<10years) had a high survival rate. \n",
    "2. Large number of the passengers in 15-35 years didn't survive. \n",
    "3. Most passengers were in 20-40 years of age. \n",
    "\n",
    "#### 'Survived' and 'SibSp'"
   ]
  },
  {
   "cell_type": "code",
   "execution_count": 11,
   "metadata": {},
   "outputs": [
    {
     "data": {
      "text/html": [
       "<div>\n",
       "<style>\n",
       "    .dataframe thead tr:only-child th {\n",
       "        text-align: right;\n",
       "    }\n",
       "\n",
       "    .dataframe thead th {\n",
       "        text-align: left;\n",
       "    }\n",
       "\n",
       "    .dataframe tbody tr th {\n",
       "        vertical-align: top;\n",
       "    }\n",
       "</style>\n",
       "<table border=\"1\" class=\"dataframe\">\n",
       "  <thead>\n",
       "    <tr style=\"text-align: right;\">\n",
       "      <th></th>\n",
       "      <th>SibSp</th>\n",
       "      <th>Survived</th>\n",
       "    </tr>\n",
       "  </thead>\n",
       "  <tbody>\n",
       "    <tr>\n",
       "      <th>1</th>\n",
       "      <td>1</td>\n",
       "      <td>0.535885</td>\n",
       "    </tr>\n",
       "    <tr>\n",
       "      <th>2</th>\n",
       "      <td>2</td>\n",
       "      <td>0.464286</td>\n",
       "    </tr>\n",
       "    <tr>\n",
       "      <th>0</th>\n",
       "      <td>0</td>\n",
       "      <td>0.345395</td>\n",
       "    </tr>\n",
       "    <tr>\n",
       "      <th>3</th>\n",
       "      <td>3</td>\n",
       "      <td>0.250000</td>\n",
       "    </tr>\n",
       "    <tr>\n",
       "      <th>4</th>\n",
       "      <td>4</td>\n",
       "      <td>0.166667</td>\n",
       "    </tr>\n",
       "    <tr>\n",
       "      <th>5</th>\n",
       "      <td>5</td>\n",
       "      <td>0.000000</td>\n",
       "    </tr>\n",
       "    <tr>\n",
       "      <th>6</th>\n",
       "      <td>8</td>\n",
       "      <td>0.000000</td>\n",
       "    </tr>\n",
       "  </tbody>\n",
       "</table>\n",
       "</div>"
      ],
      "text/plain": [
       "   SibSp  Survived\n",
       "1      1  0.535885\n",
       "2      2  0.464286\n",
       "0      0  0.345395\n",
       "3      3  0.250000\n",
       "4      4  0.166667\n",
       "5      5  0.000000\n",
       "6      8  0.000000"
      ]
     },
     "execution_count": 11,
     "metadata": {},
     "output_type": "execute_result"
    }
   ],
   "source": [
    "train[['Survived','SibSp']].groupby(by='SibSp', as_index=False).mean().sort_values(by='Survived', ascending=False)"
   ]
  },
  {
   "cell_type": "markdown",
   "metadata": {},
   "source": [
    "Passenger with 1 or 2 siblings/spouse high survival rate. \n",
    "#### 'Survived' and 'Parch'"
   ]
  },
  {
   "cell_type": "code",
   "execution_count": 12,
   "metadata": {},
   "outputs": [
    {
     "data": {
      "text/html": [
       "<div>\n",
       "<style>\n",
       "    .dataframe thead tr:only-child th {\n",
       "        text-align: right;\n",
       "    }\n",
       "\n",
       "    .dataframe thead th {\n",
       "        text-align: left;\n",
       "    }\n",
       "\n",
       "    .dataframe tbody tr th {\n",
       "        vertical-align: top;\n",
       "    }\n",
       "</style>\n",
       "<table border=\"1\" class=\"dataframe\">\n",
       "  <thead>\n",
       "    <tr style=\"text-align: right;\">\n",
       "      <th></th>\n",
       "      <th>Parch</th>\n",
       "      <th>Survived</th>\n",
       "    </tr>\n",
       "  </thead>\n",
       "  <tbody>\n",
       "    <tr>\n",
       "      <th>3</th>\n",
       "      <td>3</td>\n",
       "      <td>0.600000</td>\n",
       "    </tr>\n",
       "    <tr>\n",
       "      <th>1</th>\n",
       "      <td>1</td>\n",
       "      <td>0.550847</td>\n",
       "    </tr>\n",
       "    <tr>\n",
       "      <th>2</th>\n",
       "      <td>2</td>\n",
       "      <td>0.500000</td>\n",
       "    </tr>\n",
       "    <tr>\n",
       "      <th>0</th>\n",
       "      <td>0</td>\n",
       "      <td>0.343658</td>\n",
       "    </tr>\n",
       "    <tr>\n",
       "      <th>5</th>\n",
       "      <td>5</td>\n",
       "      <td>0.200000</td>\n",
       "    </tr>\n",
       "    <tr>\n",
       "      <th>4</th>\n",
       "      <td>4</td>\n",
       "      <td>0.000000</td>\n",
       "    </tr>\n",
       "    <tr>\n",
       "      <th>6</th>\n",
       "      <td>6</td>\n",
       "      <td>0.000000</td>\n",
       "    </tr>\n",
       "  </tbody>\n",
       "</table>\n",
       "</div>"
      ],
      "text/plain": [
       "   Parch  Survived\n",
       "3      3  0.600000\n",
       "1      1  0.550847\n",
       "2      2  0.500000\n",
       "0      0  0.343658\n",
       "5      5  0.200000\n",
       "4      4  0.000000\n",
       "6      6  0.000000"
      ]
     },
     "execution_count": 12,
     "metadata": {},
     "output_type": "execute_result"
    }
   ],
   "source": [
    "train[['Survived','Parch']].groupby(by='Parch', as_index=False).mean().sort_values(by='Survived', ascending=False)"
   ]
  },
  {
   "cell_type": "markdown",
   "metadata": {},
   "source": [
    "Passengers with 1,2 or 3 children had a high survival rate. "
   ]
  },
  {
   "cell_type": "markdown",
   "metadata": {},
   "source": [
    "## Wrangle Data\n",
    "\n",
    "We have made several observations about our features and how they correlate with survival rate. Now lets clean, correct, convert our data so that it can be modelled. Note that most of these operations also need to be performed on test data. "
   ]
  },
  {
   "cell_type": "markdown",
   "metadata": {},
   "source": [
    "#### Extracting Titles from 'Name'\n",
    "If we look closely at 'Name' column we find that with every name there is a title associated like Mr, Mrs, Master etc. If we can extract these titles we might add more information and can drop the 'Name' column. "
   ]
  },
  {
   "cell_type": "code",
   "execution_count": 13,
   "metadata": {},
   "outputs": [
    {
     "name": "stdout",
     "output_type": "stream",
     "text": [
      "0 ['Mr.' 'Mrs.' 'Miss.' 'Master.' 'Don.' 'Rev.' 'Dr.' 'Mme.' 'Ms.' 'Major.'\n",
      " 'Lady.' 'Sir.' 'Mlle.' 'Col.' 'Capt.' 'Countess.' 'Jonkheer.']\n",
      "0 ['Mr.' 'Mrs.' 'Miss.' 'Master.' 'Ms.' 'Col.' 'Rev.' 'Dr.' 'Dona.']\n"
     ]
    }
   ],
   "source": [
    "train['Title'], test['Title'] = ( df.Name.str.extract(r\"(\\b\\w+[.])\", expand=False) for df in [train, test])\n",
    "train, test = (df.drop('Name', axis=1) for df in [train, test])\n",
    "print (train.Title.isnull().sum(), train.Title.unique())\n",
    "print (test.Title.isnull().sum(), test.Title.unique())"
   ]
  },
  {
   "cell_type": "markdown",
   "metadata": {},
   "source": [
    "As we see there are 18 different titles, with no record being null. Many of these accord a status to passenger and thus can be conveniently grouped as following major categories : \n",
    "1. Mrs(0) : Mme, Ms, Mrs, \n",
    "2. Mr(1) : Mr\n",
    "3. Master(2) : Master\n",
    "4. Miss(3) : Mlle, Miss\n",
    "5. Royalty(4) : Jonkheer, Don, Dona, Sir, Lady, Countess\n",
    "6. Officer(5) : Capt, Col, Major, Dr, Rev\n",
    "\n",
    "We replace the titles by the category number written in paranthesis. "
   ]
  },
  {
   "cell_type": "code",
   "execution_count": 14,
   "metadata": {},
   "outputs": [],
   "source": [
    "# Now after \n",
    "title_dictionary = {\n",
    "                        \"Capt.\":       5,\n",
    "                        \"Col.\":        5,\n",
    "                        \"Major.\":      5,\n",
    "                        \"Jonkheer.\":   4,\n",
    "                        \"Don.\":        4,\n",
    "                        \"Dona.\":       4,\n",
    "                        \"Sir.\" :       4,\n",
    "                        \"Dr.\":         5,\n",
    "                        \"Rev.\":        5,\n",
    "                        \"Countess.\":   4,\n",
    "                        \"Mme.\":        0,\n",
    "                        \"Mlle.\":       3,\n",
    "                        \"Ms.\":         0,\n",
    "                        \"Mr.\" :        1,\n",
    "                        \"Mrs.\" :       0,\n",
    "                        \"Miss.\" :      3,\n",
    "                        \"Master.\" :    2,\n",
    "                        \"Lady.\" :      4\n",
    "                        }\n",
    "train.Title, test.Title = (df.Title.map(title_dictionary) for df in [train, test])"
   ]
  },
  {
   "cell_type": "markdown",
   "metadata": {},
   "source": [
    "So here Title is a categorical variable which we will dummify later."
   ]
  },
  {
   "cell_type": "markdown",
   "metadata": {},
   "source": [
    "#### Drop 'Cabin'\n",
    "'Cabin' feature can be dropped as it has high number of null values(687 out of 894). Also because of being alphanumeric in nature it might be a futile exercise to fill null values. \n"
   ]
  },
  {
   "cell_type": "code",
   "execution_count": 15,
   "metadata": {},
   "outputs": [
    {
     "name": "stdout",
     "output_type": "stream",
     "text": [
      "(891, 10) (418, 9)\n",
      "<class 'pandas.core.frame.DataFrame'>\n",
      "Int64Index: 891 entries, 1 to 891\n",
      "Data columns (total 10 columns):\n",
      "Survived    891 non-null int64\n",
      "Pclass      891 non-null int64\n",
      "Sex         891 non-null object\n",
      "Age         714 non-null float64\n",
      "SibSp       891 non-null int64\n",
      "Parch       891 non-null int64\n",
      "Ticket      891 non-null object\n",
      "Fare        891 non-null float64\n",
      "Embarked    889 non-null object\n",
      "Title       891 non-null int64\n",
      "dtypes: float64(2), int64(5), object(3)\n",
      "memory usage: 116.6+ KB\n",
      "<class 'pandas.core.frame.DataFrame'>\n",
      "Int64Index: 418 entries, 892 to 1309\n",
      "Data columns (total 9 columns):\n",
      "Pclass      418 non-null int64\n",
      "Sex         418 non-null object\n",
      "Age         332 non-null float64\n",
      "SibSp       418 non-null int64\n",
      "Parch       418 non-null int64\n",
      "Ticket      418 non-null object\n",
      "Fare        417 non-null float64\n",
      "Embarked    418 non-null object\n",
      "Title       418 non-null int64\n",
      "dtypes: float64(2), int64(4), object(3)\n",
      "memory usage: 32.7+ KB\n"
     ]
    },
    {
     "data": {
      "text/plain": [
       "(None, None)"
      ]
     },
     "execution_count": 15,
     "metadata": {},
     "output_type": "execute_result"
    }
   ],
   "source": [
    "train, test = (df.drop('Cabin', axis=1) for df in [train, test])\n",
    "print (train.shape, test.shape)\n",
    "train.info(), test.info()"
   ]
  },
  {
   "cell_type": "markdown",
   "metadata": {},
   "source": [
    "#### Complete 'Age', 'Embarked', 'Fare'\n",
    "'Age', 'Embarked' have null values in train while 'Age','Fare' have null values in test. We can fill 'Fare', 'Embarked' with mean, median as only a couple of values are missing. In case of 'Age', 177(out of 891) in train and 86(out of 418) in test. \n",
    "we can't just use mean or median as many values are to be filled out and also our our response variable is highly correlated with 'Age'. So what we do is we find out the variables with which 'Age' is highly correlated and using these variables we can regress onto 'Age' to find missing values. "
   ]
  },
  {
   "cell_type": "code",
   "execution_count": 16,
   "metadata": {},
   "outputs": [
    {
     "data": {
      "text/plain": [
       "-0.21776131778407989"
      ]
     },
     "execution_count": 16,
     "metadata": {},
     "output_type": "execute_result"
    }
   ],
   "source": [
    "train.Age.corr(train.Title)"
   ]
  },
  {
   "cell_type": "markdown",
   "metadata": {},
   "source": [
    "As we see from the heatmap plotted in the beginning and the correlation value above that 'Age' is highly correlated with 'Title', 'Pclass' and 'SibSp'. So we we will use these 3 variables. "
   ]
  },
  {
   "cell_type": "code",
   "execution_count": 17,
   "metadata": {},
   "outputs": [],
   "source": [
    "null_age_df = train.loc[train.Age.isnull(), :]\n",
    "age_df = train.loc[train.Age.notnull(), :]\n",
    "lr = LinearRegression()\n",
    "lr.fit(age_df[['Title','Pclass','SibSp']], age_df.Age)\n",
    "age_np = np.round(lr.predict(null_age_df[['Title','Pclass','SibSp']]), decimals=0)\n",
    "train.loc[train.Age.isnull(),['Age']] = age_np.reshape((177,1))"
   ]
  },
  {
   "cell_type": "code",
   "execution_count": 18,
   "metadata": {},
   "outputs": [],
   "source": [
    "null_age_df = test.loc[test.Age.isnull(), :]\n",
    "age_df = test.loc[test.Age.notnull(), :]\n",
    "lr = LinearRegression()\n",
    "lr.fit(age_df[['Title','Pclass','SibSp']], age_df.Age)\n",
    "age_np = np.round(lr.predict(null_age_df[['Title','Pclass','SibSp']]), decimals=0)\n",
    "test.loc[test.Age.isnull(),['Age']] = age_np.reshape((86,1))"
   ]
  },
  {
   "cell_type": "code",
   "execution_count": 19,
   "metadata": {},
   "outputs": [],
   "source": [
    "# Fill 'Fare' in test using mean. \n",
    "test.Fare.fillna(test.Fare.mean(), inplace=True)\n",
    "# Fill 'Embarked' in train using median. \n",
    "train.Embarked.fillna(train.Embarked.value_counts().index[0], inplace=True)"
   ]
  },
  {
   "cell_type": "markdown",
   "metadata": {},
   "source": [
    "#### Create dummy variables of 'Pclass', 'Sex', 'Title' and 'Embarked'\n",
    "Since 'Pclass', 'Sex', 'Title' and 'Embarked' are categorical variables, we need to create dummy variables out of them. We don;t need to do so if we plan to use a tree based classifier. "
   ]
  },
  {
   "cell_type": "code",
   "execution_count": 20,
   "metadata": {},
   "outputs": [],
   "source": [
    "train, test = (pd.get_dummies(df, columns=['Pclass', 'Sex', 'Embarked','Title']) for df in [train, test])"
   ]
  },
  {
   "cell_type": "code",
   "execution_count": 21,
   "metadata": {},
   "outputs": [
    {
     "data": {
      "text/plain": [
       "(Index(['Survived', 'Age', 'SibSp', 'Parch', 'Ticket', 'Fare', 'Pclass_1',\n",
       "        'Pclass_2', 'Pclass_3', 'Sex_female', 'Sex_male', 'Embarked_C',\n",
       "        'Embarked_Q', 'Embarked_S', 'Title_0', 'Title_1', 'Title_2', 'Title_3',\n",
       "        'Title_4', 'Title_5'],\n",
       "       dtype='object'),\n",
       " Index(['Age', 'SibSp', 'Parch', 'Ticket', 'Fare', 'Pclass_1', 'Pclass_2',\n",
       "        'Pclass_3', 'Sex_female', 'Sex_male', 'Embarked_C', 'Embarked_Q',\n",
       "        'Embarked_S', 'Title_0', 'Title_1', 'Title_2', 'Title_3', 'Title_4',\n",
       "        'Title_5'],\n",
       "       dtype='object'))"
      ]
     },
     "execution_count": 21,
     "metadata": {},
     "output_type": "execute_result"
    }
   ],
   "source": [
    "train.columns, test.columns\n"
   ]
  },
  {
   "cell_type": "markdown",
   "metadata": {},
   "source": [
    "### Extracting feature from 'SibSp' and 'Parch'\n",
    "Some of the passengers who were travelling with family(indicated by 'SibSp' and 'Parch') might be more likely to have survived than people travelling alone. So we create a new feature 'FamilySize' by adding 'SibSp' and 'parch'. "
   ]
  },
  {
   "cell_type": "code",
   "execution_count": 22,
   "metadata": {},
   "outputs": [
    {
     "data": {
      "text/html": [
       "<div>\n",
       "<style>\n",
       "    .dataframe thead tr:only-child th {\n",
       "        text-align: right;\n",
       "    }\n",
       "\n",
       "    .dataframe thead th {\n",
       "        text-align: left;\n",
       "    }\n",
       "\n",
       "    .dataframe tbody tr th {\n",
       "        vertical-align: top;\n",
       "    }\n",
       "</style>\n",
       "<table border=\"1\" class=\"dataframe\">\n",
       "  <thead>\n",
       "    <tr style=\"text-align: right;\">\n",
       "      <th></th>\n",
       "      <th>FamilySize</th>\n",
       "      <th>Survived</th>\n",
       "    </tr>\n",
       "  </thead>\n",
       "  <tbody>\n",
       "    <tr>\n",
       "      <th>3</th>\n",
       "      <td>4</td>\n",
       "      <td>0.724138</td>\n",
       "    </tr>\n",
       "    <tr>\n",
       "      <th>2</th>\n",
       "      <td>3</td>\n",
       "      <td>0.578431</td>\n",
       "    </tr>\n",
       "    <tr>\n",
       "      <th>1</th>\n",
       "      <td>2</td>\n",
       "      <td>0.552795</td>\n",
       "    </tr>\n",
       "    <tr>\n",
       "      <th>6</th>\n",
       "      <td>7</td>\n",
       "      <td>0.333333</td>\n",
       "    </tr>\n",
       "    <tr>\n",
       "      <th>0</th>\n",
       "      <td>1</td>\n",
       "      <td>0.303538</td>\n",
       "    </tr>\n",
       "    <tr>\n",
       "      <th>4</th>\n",
       "      <td>5</td>\n",
       "      <td>0.200000</td>\n",
       "    </tr>\n",
       "    <tr>\n",
       "      <th>5</th>\n",
       "      <td>6</td>\n",
       "      <td>0.136364</td>\n",
       "    </tr>\n",
       "    <tr>\n",
       "      <th>7</th>\n",
       "      <td>8</td>\n",
       "      <td>0.000000</td>\n",
       "    </tr>\n",
       "    <tr>\n",
       "      <th>8</th>\n",
       "      <td>11</td>\n",
       "      <td>0.000000</td>\n",
       "    </tr>\n",
       "  </tbody>\n",
       "</table>\n",
       "</div>"
      ],
      "text/plain": [
       "   FamilySize  Survived\n",
       "3           4  0.724138\n",
       "2           3  0.578431\n",
       "1           2  0.552795\n",
       "6           7  0.333333\n",
       "0           1  0.303538\n",
       "4           5  0.200000\n",
       "5           6  0.136364\n",
       "7           8  0.000000\n",
       "8          11  0.000000"
      ]
     },
     "execution_count": 22,
     "metadata": {},
     "output_type": "execute_result"
    }
   ],
   "source": [
    "train['FamilySize'], test['FamilySize'] = (df['SibSp']+df['Parch']+1 for df in [train,test])\n",
    "train[['FamilySize','Survived']].groupby(by='FamilySize', as_index=False).mean().sort_values(by='Survived', ascending=False)"
   ]
  },
  {
   "cell_type": "markdown",
   "metadata": {},
   "source": [
    "As we see passengers who were a member of small families had a higher rate of survival. We can drop 'SibSp' and 'Parch' now."
   ]
  },
  {
   "cell_type": "code",
   "execution_count": 23,
   "metadata": {},
   "outputs": [
    {
     "data": {
      "text/plain": [
       "(Index(['Survived', 'Age', 'Ticket', 'Fare', 'Pclass_1', 'Pclass_2', 'Pclass_3',\n",
       "        'Sex_female', 'Sex_male', 'Embarked_C', 'Embarked_Q', 'Embarked_S',\n",
       "        'Title_0', 'Title_1', 'Title_2', 'Title_3', 'Title_4', 'Title_5',\n",
       "        'FamilySize'],\n",
       "       dtype='object'),\n",
       " Index(['Age', 'Ticket', 'Fare', 'Pclass_1', 'Pclass_2', 'Pclass_3',\n",
       "        'Sex_female', 'Sex_male', 'Embarked_C', 'Embarked_Q', 'Embarked_S',\n",
       "        'Title_0', 'Title_1', 'Title_2', 'Title_3', 'Title_4', 'Title_5',\n",
       "        'FamilySize'],\n",
       "       dtype='object'))"
      ]
     },
     "execution_count": 23,
     "metadata": {},
     "output_type": "execute_result"
    }
   ],
   "source": [
    "train, test = (df.drop(['SibSp','Parch'], axis=1) for df in [train,test])\n",
    "train.columns, test.columns"
   ]
  },
  {
   "cell_type": "markdown",
   "metadata": {},
   "source": [
    "We will drop 'Ticket' feature as well, since it is alphanumeric in nature and in a real world scenario ticket numbers add little to information. "
   ]
  },
  {
   "cell_type": "code",
   "execution_count": 24,
   "metadata": {},
   "outputs": [],
   "source": [
    "train, test = (df.drop('Ticket',axis=1) for df in [train, test])"
   ]
  },
  {
   "cell_type": "markdown",
   "metadata": {},
   "source": [
    "## Modelling\n",
    "Looks like we are ready to try various models on our dataset. We will try the following classifiers for now and submit the one with highest accuracy : \n",
    "1. Logistic Regression\n",
    "2. Linear Discriminant Analysis\n",
    "3. k nearest neighbours \n",
    "4. SVM\n",
    "5. Random Forest Classifier\n",
    "6. Gradient Boosting classifier\n",
    "7. XGBoost\n",
    "\n",
    "For tree based models we don't need to dummify our categorical variables. \n"
   ]
  },
  {
   "cell_type": "code",
   "execution_count": 25,
   "metadata": {},
   "outputs": [],
   "source": [
    "np.random.seed(1)\n",
    "X = train.drop('Survived', axis=1)\n",
    "y = train['Survived']\n",
    "X_train, X_test, y_train, y_test = train_test_split(X, y, test_size=0.25)"
   ]
  },
  {
   "cell_type": "markdown",
   "metadata": {},
   "source": [
    "\n",
    "#### Logistic Regression\n",
    "We chose LogisticRegressionCV classifier from sklearn with 'lbfgs' solver(default one) and 'l2' penalty. The model selects the value of regularization parameter from a list of values using 10 fold cross validation.  "
   ]
  },
  {
   "cell_type": "code",
   "execution_count": 147,
   "metadata": {},
   "outputs": [
    {
     "name": "stdout",
     "output_type": "stream",
     "text": [
      "Accuracy : 0.8116591928251121\n"
     ]
    },
    {
     "name": "stderr",
     "output_type": "stream",
     "text": [
      "[Parallel(n_jobs=1)]: Done  10 out of  10 | elapsed:   18.2s finished\n"
     ]
    }
   ],
   "source": [
    "lr = LogisticRegressionCV(cv=10, verbose=1, max_iter=1000)\n",
    "lr.fit(X_train, y_train)\n",
    "y_pred = lr.predict(X_test)\n",
    "accuracy = accuracy_score(y_test, y_pred)\n",
    "print (\"Accuracy : {0}\".format(accuracy))"
   ]
  },
  {
   "cell_type": "markdown",
   "metadata": {},
   "source": [
    "#### Quadratic Discriminant Analysis\n",
    "We chose quadratic discriminant analysis over linear as there are a good no of data points and so our primary is to reduce variance by chosing a more flexible model. QDA tries to approximate Bayes decision boundary by assuming that the data is drawn from a multivariate Gaussian distribution with class specific mean and covariance. "
   ]
  },
  {
   "cell_type": "code",
   "execution_count": 148,
   "metadata": {},
   "outputs": [
    {
     "name": "stdout",
     "output_type": "stream",
     "text": [
      "Accuracy : 0.7668161434977578\n"
     ]
    },
    {
     "name": "stderr",
     "output_type": "stream",
     "text": [
      "/home/akshay/Data/skl-v/lib/python3.5/site-packages/sklearn/discriminant_analysis.py:682: UserWarning: Variables are collinear\n",
      "  warnings.warn(\"Variables are collinear\")\n"
     ]
    }
   ],
   "source": [
    "qda = QuadraticDiscriminantAnalysis()\n",
    "qda.fit(X_train, y_train)\n",
    "y_pred = qda.predict(X_test)\n",
    "accuracy = accuracy_score(y_test, y_pred)\n",
    "print (\"Accuracy : {0}\".format(accuracy))"
   ]
  },
  {
   "cell_type": "markdown",
   "metadata": {},
   "source": [
    "#### K Nearest Neighbours\n",
    "We chose number of nearest neighbours using cross validation. "
   ]
  },
  {
   "cell_type": "code",
   "execution_count": 149,
   "metadata": {},
   "outputs": [
    {
     "name": "stdout",
     "output_type": "stream",
     "text": [
      "No of neighbours :  3\n",
      "Accuracy : 0.7174887892376681\n"
     ]
    }
   ],
   "source": [
    "knn = KNeighborsClassifier()\n",
    "parameters = {\"n_neighbors\":np.arange(1,11)}\n",
    "clf = GridSearchCV(knn, param_grid=parameters, cv=10)\n",
    "clf.fit(X_train, y_train)\n",
    "print (\"No of neighbours : \", clf.best_estimator_.n_neighbors)\n",
    "accuracy = accuracy_score(y_test, clf.predict(X_test))\n",
    "print (\"Accuracy : {0}\".format(accuracy))"
   ]
  },
  {
   "cell_type": "markdown",
   "metadata": {},
   "source": [
    "#### Support Vector Classifier"
   ]
  },
  {
   "cell_type": "code",
   "execution_count": 159,
   "metadata": {},
   "outputs": [
    {
     "name": "stdout",
     "output_type": "stream",
     "text": [
      "kernel : linear, C : 1\n",
      "Accuracy : 0.8116591928251121\n"
     ]
    }
   ],
   "source": [
    "svc = SVC(kernel='linear')\n",
    "parameters = {\"C\":[0.1,1,5,10]}\n",
    "clf = GridSearchCV(svc, param_grid=parameters, cv=10, n_jobs=-1)\n",
    "clf.fit(X_train, y_train)\n",
    "print (\"kernel : {0}, C : {1}\".format(clf.best_estimator_.kernel, clf.best_estimator_.C))\n",
    "accuracy = accuracy_score(y_test, clf.predict(X_test))\n",
    "print (\"Accuracy : {0}\".format(accuracy))"
   ]
  },
  {
   "cell_type": "markdown",
   "metadata": {},
   "source": [
    "Training 'RBF', 'poly' as kernel values takes a lot of time so I had to settle with linear kernel. \n",
    "\n",
    "#### Random Forest Classifier"
   ]
  },
  {
   "cell_type": "code",
   "execution_count": 153,
   "metadata": {},
   "outputs": [
    {
     "name": "stdout",
     "output_type": "stream",
     "text": [
      "Accuracy : 0.757847533632287\n"
     ]
    }
   ],
   "source": [
    "rfc = RandomForestClassifier(n_estimators=100, max_features='sqrt')\n",
    "rfc.fit(X_train, y_train)\n",
    "accuracy = accuracy_score(y_test, rfc.predict(X_test))\n",
    "print (\"Accuracy : {0}\".format(accuracy))"
   ]
  },
  {
   "cell_type": "markdown",
   "metadata": {},
   "source": [
    "#### Gradient Boosting Classifer \n"
   ]
  },
  {
   "cell_type": "code",
   "execution_count": 156,
   "metadata": {},
   "outputs": [
    {
     "name": "stdout",
     "output_type": "stream",
     "text": [
      "GradientBoostingClassifier(criterion='friedman_mse', init=None,\n",
      "              learning_rate=0.061578947368421053, loss='deviance',\n",
      "              max_depth=3, max_features=None, max_leaf_nodes=2,\n",
      "              min_impurity_decrease=0.0, min_impurity_split=None,\n",
      "              min_samples_leaf=1, min_samples_split=2,\n",
      "              min_weight_fraction_leaf=0.0, n_estimators=100,\n",
      "              presort='auto', random_state=None, subsample=1.0, verbose=0,\n",
      "              warm_start=False)\n",
      "Accuracy : 0.8026905829596412\n"
     ]
    }
   ],
   "source": [
    "gbc = GradientBoostingClassifier(max_leaf_nodes=2, n_estimators=100)\n",
    "parameters = {\"learning_rate\":np.linspace(0.01, 0.5, 20)}\n",
    "clf1 = GridSearchCV(gbc, param_grid=parameters, cv=10, n_jobs=-1)\n",
    "clf1.fit(X_train, y_train)\n",
    "print (clf1.best_estimator_)\n",
    "accuracy = accuracy_score(y_test, clf1.predict(X_test))\n",
    "print (\"Accuracy : {0}\".format(accuracy))"
   ]
  },
  {
   "cell_type": "markdown",
   "metadata": {},
   "source": [
    "#### XGBoost Classifier"
   ]
  },
  {
   "cell_type": "code",
   "execution_count": 41,
   "metadata": {},
   "outputs": [
    {
     "name": "stdout",
     "output_type": "stream",
     "text": [
      "Accuracy : 0.8071748878923767\n"
     ]
    }
   ],
   "source": [
    "gbx = xgb.XGBClassifier(max_depth=3, learning_rate=0.1, n_estimators=300).fit(X_train, y_train)\n",
    "accuracy = accuracy_score(y_test, gbx.predict(X_test))\n",
    "print (\"Accuracy : {0}\".format(accuracy))"
   ]
  },
  {
   "cell_type": "markdown",
   "metadata": {},
   "source": [
    "### Preparing Submission files"
   ]
  },
  {
   "cell_type": "code",
   "execution_count": 160,
   "metadata": {},
   "outputs": [],
   "source": [
    "y_pred = lr.predict(test)\n",
    "submission_df = pd.DataFrame(y_pred, index=test.index, columns=['Survived'])\n",
    "submission_df.to_csv(\"final_logR.csv\")\n",
    "y_pred = clf.predict(test)\n",
    "submission_df = pd.DataFrame(y_pred, index=test.index, columns=['Survived'])\n",
    "submission_df.to_csv(\"final_svc.csv\")\n",
    "y_pred = clf1.predict(test)\n",
    "submission_df = pd.DataFrame(y_pred, index=test.index, columns=['Survived'])\n",
    "submission_df.to_csv(\"final_gbc2.csv\")\n",
    "y_pred = gbx.predict(test)\n",
    "submission_df = pd.DataFrame(y_pred, index=test.index, columns=['Survived'])\n",
    "submission_df.to_csv(\"final_gbx.csv\")"
   ]
  },
  {
   "cell_type": "markdown",
   "metadata": {},
   "source": [
    "Submit these files and see which gives better results. \n"
   ]
  }
 ],
 "metadata": {
  "kernelspec": {
   "display_name": "Python 3",
   "language": "python",
   "name": "python3"
  },
  "language_info": {
   "codemirror_mode": {
    "name": "ipython",
    "version": 3
   },
   "file_extension": ".py",
   "mimetype": "text/x-python",
   "name": "python",
   "nbconvert_exporter": "python",
   "pygments_lexer": "ipython3",
   "version": "3.5.2"
  }
 },
 "nbformat": 4,
 "nbformat_minor": 2
}
